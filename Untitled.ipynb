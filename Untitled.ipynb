{
 "cells": [
  {
   "cell_type": "code",
   "execution_count": 2,
   "id": "3b6abd5c-83dd-4cd9-8579-d8e1023a212b",
   "metadata": {},
   "outputs": [
    {
     "data": {
      "text/plain": [
       "2"
      ]
     },
     "execution_count": 2,
     "metadata": {},
     "output_type": "execute_result"
    }
   ],
   "source": [
    "import numpy as np\n",
    "nums = [1,2,3]\n",
    "np.argmax(nums)"
   ]
  },
  {
   "cell_type": "code",
   "execution_count": 5,
   "id": "71393d64-aa5c-4681-9ef0-a449bdb652f6",
   "metadata": {},
   "outputs": [
    {
     "data": {
      "text/plain": [
       "2"
      ]
     },
     "execution_count": 5,
     "metadata": {},
     "output_type": "execute_result"
    }
   ],
   "source": [
    "nums.index(max(nums))"
   ]
  },
  {
   "cell_type": "code",
   "execution_count": 8,
   "id": "85dd4867-ffa4-45cb-a697-e790b4bab77e",
   "metadata": {},
   "outputs": [
    {
     "name": "stdout",
     "output_type": "stream",
     "text": [
      "<__main__.TreeNode object at 0x106e62340>\n"
     ]
    }
   ],
   "source": [
    "class TreeNode:\n",
    "    def __init__(self, val=0, left=None, right=None):\n",
    "        self.val = val\n",
    "        self.left = left\n",
    "        self.right = right\n",
    "\n",
    "node = TreeNode(0)\n",
    "node.val = 12\n",
    "node.left = 2\n",
    "node.right = 3\n",
    "print(node)"
   ]
  },
  {
   "cell_type": "code",
   "execution_count": 11,
   "id": "e986d9ba-c54b-4871-84ae-ab475608412d",
   "metadata": {},
   "outputs": [
    {
     "data": {
      "text/plain": [
       "3"
      ]
     },
     "execution_count": 11,
     "metadata": {},
     "output_type": "execute_result"
    }
   ],
   "source": [
    "node.right"
   ]
  },
  {
   "cell_type": "code",
   "execution_count": 12,
   "id": "fff7e24c-8287-4cab-9d2b-54adf8f7bd93",
   "metadata": {},
   "outputs": [],
   "source": [
    "path = \"/Users/zyl/Desktop/安信证券/全部算子/test_data/skywalking_trace_28-29.json\"\n",
    "import json\n",
    "save_json = open(\"/Users/zyl/Desktop/安信证券/全部算子/test_data/skywalking_trace_100.json\", 'w')\n",
    "with open(path, 'r') as f:\n",
    "    for i, line in enumerate(f.readlines()):\n",
    "        save_json.write(line)\n",
    "        save_json.flush()\n",
    "        if i == 100:\n",
    "            break\n",
    "save_json.close()\n"
   ]
  },
  {
   "cell_type": "code",
   "execution_count": null,
   "id": "f6ae437e-ef89-43c5-af4e-5cba097911a6",
   "metadata": {},
   "outputs": [],
   "source": []
  }
 ],
 "metadata": {
  "kernelspec": {
   "display_name": "Python 3 (ipykernel)",
   "language": "python",
   "name": "python3"
  },
  "language_info": {
   "codemirror_mode": {
    "name": "ipython",
    "version": 3
   },
   "file_extension": ".py",
   "mimetype": "text/x-python",
   "name": "python",
   "nbconvert_exporter": "python",
   "pygments_lexer": "ipython3",
   "version": "3.9.7"
  }
 },
 "nbformat": 4,
 "nbformat_minor": 5
}
